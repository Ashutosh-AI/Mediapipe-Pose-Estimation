{
 "cells": [
  {
   "cell_type": "code",
   "execution_count": 104,
   "id": "020bb493",
   "metadata": {
    "scrolled": true
   },
   "outputs": [],
   "source": [
    "!pip install mediapipe opencv-python"
   ]
  },
  {
   "cell_type": "code",
   "execution_count": 12,
   "id": "9f0934df",
   "metadata": {},
   "outputs": [],
   "source": [
    "import cv2\n",
    "import mediapipe as mp\n",
    "import numpy as np\n",
    "\n",
    "mp_drawing = mp.solutions.drawing_utils       # Visilization utilities\n",
    "mp_pose = mp.solutions.pose                   # gives models of a specific task\n"
   ]
  },
  {
   "cell_type": "code",
   "execution_count": 3,
   "id": "ef58a5a1",
   "metadata": {},
   "outputs": [],
   "source": [
    "cap = cv2.VideoCapture(0)\n",
    "while cap.isOpened():\n",
    "    ret, frame = cap.read()\n",
    "    cv2.imshow(\"Mediapipe Feed\", frame)\n",
    "    \n",
    "    if cv2.waitKey(1) & 0xFF == ord(\"q\"):\n",
    "        break\n",
    "        \n",
    "cap.release()\n",
    "cv2.destroyAllWindows()"
   ]
  },
  {
   "cell_type": "code",
   "execution_count": null,
   "id": "dedbfec2",
   "metadata": {},
   "outputs": [],
   "source": []
  },
  {
   "cell_type": "markdown",
   "id": "56435f1a",
   "metadata": {},
   "source": [
    "# Detections"
   ]
  },
  {
   "cell_type": "code",
   "execution_count": 24,
   "id": "e40241c9",
   "metadata": {
    "scrolled": true
   },
   "outputs": [],
   "source": [
    "cap = cv2.VideoCapture(0)\n",
    "\n",
    "with mp_pose.Pose(min_detection_confidence=0.5, min_tracking_confidence=0.5) as pose:\n",
    "    \n",
    "    while cap.isOpened():\n",
    "        ret, frame = cap.read()\n",
    "        \n",
    "        # Recolor image to RGB\n",
    "        image = cv2.cvtColor(frame, cv2.COLOR_BGR2RGB)\n",
    "        \n",
    "        # make detection\n",
    "        results = pose.process(image)\n",
    "        \n",
    "        # Recolor back to BGR\n",
    "        image = cv2.cvtColor(image, cv2.COLOR_RGB2BGR)\n",
    "        \n",
    "        # Render detections\n",
    "        mp_drawing.draw_landmarks(image, results.pose_landmarks, mp_pose.POSE_CONNECTIONS,\n",
    "                                  mp_drawing.DrawingSpec(color=(0,0,255), thickness=2, circle_radius=2),\n",
    "                                  mp_drawing.DrawingSpec(color=(255,0,0), thickness=2, circle_radius=2))\n",
    "        \n",
    "        #print(results)\n",
    "        \n",
    "        \n",
    "        cv2.imshow(\"Mediapipe Feed\", image)\n",
    "    \n",
    "        if cv2.waitKey(1) & 0xFF == ord(\"q\"):\n",
    "            break\n",
    "        \n",
    "cap.release()\n",
    "cv2.destroyAllWindows()"
   ]
  },
  {
   "cell_type": "code",
   "execution_count": 21,
   "id": "a531840d",
   "metadata": {},
   "outputs": [],
   "source": [
    " mp_drawing.draw_landmarks??"
   ]
  },
  {
   "cell_type": "code",
   "execution_count": 26,
   "id": "1528ea66",
   "metadata": {},
   "outputs": [],
   "source": [
    "mp_drawing.DrawingSpec??"
   ]
  },
  {
   "cell_type": "code",
   "execution_count": 28,
   "id": "8bcccd78",
   "metadata": {
    "scrolled": true
   },
   "outputs": [],
   "source": [
    "#mp_pose.POSE_CONNECTIONS"
   ]
  },
  {
   "cell_type": "code",
   "execution_count": 45,
   "id": "b92e146e",
   "metadata": {
    "scrolled": true
   },
   "outputs": [],
   "source": [
    "#results.pose_landmarks"
   ]
  },
  {
   "cell_type": "code",
   "execution_count": null,
   "id": "3c763dca",
   "metadata": {},
   "outputs": [],
   "source": []
  },
  {
   "cell_type": "markdown",
   "id": "c720d8e0",
   "metadata": {},
   "source": [
    "# Determining Joints"
   ]
  },
  {
   "cell_type": "markdown",
   "id": "d7ed52f0",
   "metadata": {},
   "source": [
    "<img src=\"https://i.imgur.com/3j8BPdc.png\" style=\"height:300px\" >-->"
   ]
  },
  {
   "cell_type": "code",
   "execution_count": 30,
   "id": "984635f8",
   "metadata": {},
   "outputs": [],
   "source": [
    "cap = cv2.VideoCapture(0)\n",
    "\n",
    "with mp_pose.Pose(min_detection_confidence=0.5, min_tracking_confidence=0.5) as pose:\n",
    "    \n",
    "    while cap.isOpened():\n",
    "        ret, frame = cap.read()\n",
    "        \n",
    "        # Recolor image to RGB\n",
    "        image = cv2.cvtColor(frame, cv2.COLOR_BGR2RGB)\n",
    "        \n",
    "        # make detection\n",
    "        results = pose.process(image)\n",
    "        \n",
    "        # Recolor back to BGR\n",
    "        image = cv2.cvtColor(image, cv2.COLOR_RGB2BGR)\n",
    "        \n",
    "        # Extract landmarks\n",
    "        try:\n",
    "            landmarks = results.pose_landmarks.landmark\n",
    "        except:\n",
    "            pass\n",
    "        \n",
    "        # Render detections\n",
    "        mp_drawing.draw_landmarks(image, results.pose_landmarks, mp_pose.POSE_CONNECTIONS,\n",
    "                                  mp_drawing.DrawingSpec(color=(0,0,255), thickness=2, circle_radius=2),\n",
    "                                  mp_drawing.DrawingSpec(color=(255,0,0), thickness=2, circle_radius=2))\n",
    "        \n",
    "        #print(results)\n",
    "        \n",
    "        \n",
    "        cv2.imshow(\"Mediapipe Feed\", image)\n",
    "    \n",
    "        if cv2.waitKey(1) & 0xFF == ord(\"q\"):\n",
    "            break\n",
    "        \n",
    "cap.release()\n",
    "cv2.destroyAllWindows()"
   ]
  },
  {
   "cell_type": "code",
   "execution_count": 65,
   "id": "a99037f4",
   "metadata": {
    "scrolled": true
   },
   "outputs": [
    {
     "data": {
      "text/plain": [
       "landmark {\n",
       "  x: 0.5360917\n",
       "  y: 0.595538\n",
       "  z: -1.1664698\n",
       "  visibility: 0.99983025\n",
       "}\n",
       "landmark {\n",
       "  x: 0.55853677\n",
       "  y: 0.5340532\n",
       "  z: -1.0998998\n",
       "  visibility: 0.9996388\n",
       "}\n",
       "landmark {\n",
       "  x: 0.5736793\n",
       "  y: 0.53427184\n",
       "  z: -1.1002177\n",
       "  visibility: 0.99963254\n",
       "}\n",
       "landmark {\n",
       "  x: 0.59071565\n",
       "  y: 0.53573865\n",
       "  z: -1.1002983\n",
       "  visibility: 0.9995506\n",
       "}\n",
       "landmark {\n",
       "  x: 0.5092026\n",
       "  y: 0.53442514\n",
       "  z: -1.1034973\n",
       "  visibility: 0.99970245\n",
       "}\n",
       "landmark {\n",
       "  x: 0.49155346\n",
       "  y: 0.53386474\n",
       "  z: -1.1028302\n",
       "  visibility: 0.999747\n",
       "}\n",
       "landmark {\n",
       "  x: 0.47719732\n",
       "  y: 0.5330791\n",
       "  z: -1.1032794\n",
       "  visibility: 0.99975634\n",
       "}\n",
       "landmark {\n",
       "  x: 0.61573505\n",
       "  y: 0.5702102\n",
       "  z: -0.6553656\n",
       "  visibility: 0.9994903\n",
       "}\n",
       "landmark {\n",
       "  x: 0.45213813\n",
       "  y: 0.5636785\n",
       "  z: -0.65963274\n",
       "  visibility: 0.9998144\n",
       "}\n",
       "landmark {\n",
       "  x: 0.5661942\n",
       "  y: 0.6632537\n",
       "  z: -0.9979142\n",
       "  visibility: 0.99982\n",
       "}\n",
       "landmark {\n",
       "  x: 0.5031979\n",
       "  y: 0.6580328\n",
       "  z: -0.99990433\n",
       "  visibility: 0.9998962\n",
       "}\n",
       "landmark {\n",
       "  x: 0.7457833\n",
       "  y: 0.87768227\n",
       "  z: -0.33927768\n",
       "  visibility: 0.99648297\n",
       "}\n",
       "landmark {\n",
       "  x: 0.31997767\n",
       "  y: 0.8837107\n",
       "  z: -0.37196088\n",
       "  visibility: 0.99812067\n",
       "}\n",
       "landmark {\n",
       "  x: 0.8782881\n",
       "  y: 1.1821463\n",
       "  z: -0.36213455\n",
       "  visibility: 0.2567587\n",
       "}\n",
       "landmark {\n",
       "  x: 0.18899249\n",
       "  y: 1.2459867\n",
       "  z: -0.26500887\n",
       "  visibility: 0.5082898\n",
       "}\n",
       "landmark {\n",
       "  x: 0.9014492\n",
       "  y: 1.4754834\n",
       "  z: -0.89777625\n",
       "  visibility: 0.039272714\n",
       "}\n",
       "landmark {\n",
       "  x: 0.19224456\n",
       "  y: 1.5551807\n",
       "  z: -0.74355876\n",
       "  visibility: 0.09980733\n",
       "}\n",
       "landmark {\n",
       "  x: 0.9315011\n",
       "  y: 1.5781285\n",
       "  z: -1.0491911\n",
       "  visibility: 0.042634975\n",
       "}\n",
       "landmark {\n",
       "  x: 0.17730658\n",
       "  y: 1.6678957\n",
       "  z: -0.8960043\n",
       "  visibility: 0.10087168\n",
       "}\n",
       "landmark {\n",
       "  x: 0.8889717\n",
       "  y: 1.5776789\n",
       "  z: -1.1337476\n",
       "  visibility: 0.06807071\n",
       "}\n",
       "landmark {\n",
       "  x: 0.22030458\n",
       "  y: 1.6559726\n",
       "  z: -1.0076874\n",
       "  visibility: 0.1585762\n",
       "}\n",
       "landmark {\n",
       "  x: 0.86630726\n",
       "  y: 1.5401928\n",
       "  z: -0.95915395\n",
       "  visibility: 0.06534279\n",
       "}\n",
       "landmark {\n",
       "  x: 0.23383717\n",
       "  y: 1.614392\n",
       "  z: -0.80880845\n",
       "  visibility: 0.15067324\n",
       "}\n",
       "landmark {\n",
       "  x: 0.6632875\n",
       "  y: 1.5832313\n",
       "  z: -0.059761025\n",
       "  visibility: 0.00055576226\n",
       "}\n",
       "landmark {\n",
       "  x: 0.38073468\n",
       "  y: 1.58313\n",
       "  z: 0.06529241\n",
       "  visibility: 0.0004892209\n",
       "}\n",
       "landmark {\n",
       "  x: 0.6539496\n",
       "  y: 2.1686552\n",
       "  z: -0.19378658\n",
       "  visibility: 0.0013289611\n",
       "}\n",
       "landmark {\n",
       "  x: 0.39325508\n",
       "  y: 2.1616488\n",
       "  z: -0.15082927\n",
       "  visibility: 0.0006331828\n",
       "}\n",
       "landmark {\n",
       "  x: 0.65227723\n",
       "  y: 2.704411\n",
       "  z: 0.35495186\n",
       "  visibility: 6.720381e-05\n",
       "}\n",
       "landmark {\n",
       "  x: 0.39979315\n",
       "  y: 2.6977377\n",
       "  z: 0.2069093\n",
       "  visibility: 2.504977e-05\n",
       "}\n",
       "landmark {\n",
       "  x: 0.6561391\n",
       "  y: 2.7949762\n",
       "  z: 0.36898872\n",
       "  visibility: 3.8046397e-05\n",
       "}\n",
       "landmark {\n",
       "  x: 0.39492512\n",
       "  y: 2.7886689\n",
       "  z: 0.21786804\n",
       "  visibility: 4.9295275e-05\n",
       "}\n",
       "landmark {\n",
       "  x: 0.6160698\n",
       "  y: 2.8636432\n",
       "  z: -0.2925393\n",
       "  visibility: 9.841603e-05\n",
       "}\n",
       "landmark {\n",
       "  x: 0.4475963\n",
       "  y: 2.8543012\n",
       "  z: -0.49287122\n",
       "  visibility: 0.00014155982\n",
       "}"
      ]
     },
     "execution_count": 65,
     "metadata": {},
     "output_type": "execute_result"
    }
   ],
   "source": [
    "results.pose_landmarks"
   ]
  },
  {
   "cell_type": "code",
   "execution_count": 76,
   "id": "232ac67a",
   "metadata": {},
   "outputs": [
    {
     "data": {
      "text/plain": [
       "[x: 0.5360917\n",
       "y: 0.595538\n",
       "z: -1.1664698\n",
       "visibility: 0.99983025\n",
       ", x: 0.55853677\n",
       "y: 0.5340532\n",
       "z: -1.0998998\n",
       "visibility: 0.9996388\n",
       ", x: 0.5736793\n",
       "y: 0.53427184\n",
       "z: -1.1002177\n",
       "visibility: 0.99963254\n",
       ", x: 0.59071565\n",
       "y: 0.53573865\n",
       "z: -1.1002983\n",
       "visibility: 0.9995506\n",
       ", x: 0.5092026\n",
       "y: 0.53442514\n",
       "z: -1.1034973\n",
       "visibility: 0.99970245\n",
       ", x: 0.49155346\n",
       "y: 0.53386474\n",
       "z: -1.1028302\n",
       "visibility: 0.999747\n",
       ", x: 0.47719732\n",
       "y: 0.5330791\n",
       "z: -1.1032794\n",
       "visibility: 0.99975634\n",
       ", x: 0.61573505\n",
       "y: 0.5702102\n",
       "z: -0.6553656\n",
       "visibility: 0.9994903\n",
       ", x: 0.45213813\n",
       "y: 0.5636785\n",
       "z: -0.65963274\n",
       "visibility: 0.9998144\n",
       ", x: 0.5661942\n",
       "y: 0.6632537\n",
       "z: -0.9979142\n",
       "visibility: 0.99982\n",
       ", x: 0.5031979\n",
       "y: 0.6580328\n",
       "z: -0.99990433\n",
       "visibility: 0.9998962\n",
       ", x: 0.7457833\n",
       "y: 0.87768227\n",
       "z: -0.33927768\n",
       "visibility: 0.99648297\n",
       ", x: 0.31997767\n",
       "y: 0.8837107\n",
       "z: -0.37196088\n",
       "visibility: 0.99812067\n",
       ", x: 0.8782881\n",
       "y: 1.1821463\n",
       "z: -0.36213455\n",
       "visibility: 0.2567587\n",
       ", x: 0.18899249\n",
       "y: 1.2459867\n",
       "z: -0.26500887\n",
       "visibility: 0.5082898\n",
       ", x: 0.9014492\n",
       "y: 1.4754834\n",
       "z: -0.89777625\n",
       "visibility: 0.039272714\n",
       ", x: 0.19224456\n",
       "y: 1.5551807\n",
       "z: -0.74355876\n",
       "visibility: 0.09980733\n",
       ", x: 0.9315011\n",
       "y: 1.5781285\n",
       "z: -1.0491911\n",
       "visibility: 0.042634975\n",
       ", x: 0.17730658\n",
       "y: 1.6678957\n",
       "z: -0.8960043\n",
       "visibility: 0.10087168\n",
       ", x: 0.8889717\n",
       "y: 1.5776789\n",
       "z: -1.1337476\n",
       "visibility: 0.06807071\n",
       ", x: 0.22030458\n",
       "y: 1.6559726\n",
       "z: -1.0076874\n",
       "visibility: 0.1585762\n",
       ", x: 0.86630726\n",
       "y: 1.5401928\n",
       "z: -0.95915395\n",
       "visibility: 0.06534279\n",
       ", x: 0.23383717\n",
       "y: 1.614392\n",
       "z: -0.80880845\n",
       "visibility: 0.15067324\n",
       ", x: 0.6632875\n",
       "y: 1.5832313\n",
       "z: -0.059761025\n",
       "visibility: 0.00055576226\n",
       ", x: 0.38073468\n",
       "y: 1.58313\n",
       "z: 0.06529241\n",
       "visibility: 0.0004892209\n",
       ", x: 0.6539496\n",
       "y: 2.1686552\n",
       "z: -0.19378658\n",
       "visibility: 0.0013289611\n",
       ", x: 0.39325508\n",
       "y: 2.1616488\n",
       "z: -0.15082927\n",
       "visibility: 0.0006331828\n",
       ", x: 0.65227723\n",
       "y: 2.704411\n",
       "z: 0.35495186\n",
       "visibility: 6.720381e-05\n",
       ", x: 0.39979315\n",
       "y: 2.6977377\n",
       "z: 0.2069093\n",
       "visibility: 2.504977e-05\n",
       ", x: 0.6561391\n",
       "y: 2.7949762\n",
       "z: 0.36898872\n",
       "visibility: 3.8046397e-05\n",
       ", x: 0.39492512\n",
       "y: 2.7886689\n",
       "z: 0.21786804\n",
       "visibility: 4.9295275e-05\n",
       ", x: 0.6160698\n",
       "y: 2.8636432\n",
       "z: -0.2925393\n",
       "visibility: 9.841603e-05\n",
       ", x: 0.4475963\n",
       "y: 2.8543012\n",
       "z: -0.49287122\n",
       "visibility: 0.00014155982\n",
       "]"
      ]
     },
     "execution_count": 76,
     "metadata": {},
     "output_type": "execute_result"
    }
   ],
   "source": [
    "landmarks"
   ]
  },
  {
   "cell_type": "code",
   "execution_count": 68,
   "id": "6188efb8",
   "metadata": {
    "scrolled": true
   },
   "outputs": [
    {
     "name": "stdout",
     "output_type": "stream",
     "text": [
      "PoseLandmark.NOSE\n",
      "PoseLandmark.LEFT_EYE_INNER\n",
      "PoseLandmark.LEFT_EYE\n",
      "PoseLandmark.LEFT_EYE_OUTER\n",
      "PoseLandmark.RIGHT_EYE_INNER\n",
      "PoseLandmark.RIGHT_EYE\n",
      "PoseLandmark.RIGHT_EYE_OUTER\n",
      "PoseLandmark.LEFT_EAR\n",
      "PoseLandmark.RIGHT_EAR\n",
      "PoseLandmark.MOUTH_LEFT\n",
      "PoseLandmark.MOUTH_RIGHT\n",
      "PoseLandmark.LEFT_SHOULDER\n",
      "PoseLandmark.RIGHT_SHOULDER\n",
      "PoseLandmark.LEFT_ELBOW\n",
      "PoseLandmark.RIGHT_ELBOW\n",
      "PoseLandmark.LEFT_WRIST\n",
      "PoseLandmark.RIGHT_WRIST\n",
      "PoseLandmark.LEFT_PINKY\n",
      "PoseLandmark.RIGHT_PINKY\n",
      "PoseLandmark.LEFT_INDEX\n",
      "PoseLandmark.RIGHT_INDEX\n",
      "PoseLandmark.LEFT_THUMB\n",
      "PoseLandmark.RIGHT_THUMB\n",
      "PoseLandmark.LEFT_HIP\n",
      "PoseLandmark.RIGHT_HIP\n",
      "PoseLandmark.LEFT_KNEE\n",
      "PoseLandmark.RIGHT_KNEE\n",
      "PoseLandmark.LEFT_ANKLE\n",
      "PoseLandmark.RIGHT_ANKLE\n",
      "PoseLandmark.LEFT_HEEL\n",
      "PoseLandmark.RIGHT_HEEL\n",
      "PoseLandmark.LEFT_FOOT_INDEX\n",
      "PoseLandmark.RIGHT_FOOT_INDEX\n"
     ]
    }
   ],
   "source": [
    "for lndmark in mp_pose.PoseLandmark:\n",
    "    print(lndmark)"
   ]
  },
  {
   "cell_type": "code",
   "execution_count": 78,
   "id": "f1748e26",
   "metadata": {
    "scrolled": true
   },
   "outputs": [
    {
     "data": {
      "text/plain": [
       "<PoseLandmark.LEFT_SHOULDER: 11>"
      ]
     },
     "execution_count": 78,
     "metadata": {},
     "output_type": "execute_result"
    }
   ],
   "source": [
    "mp_pose.PoseLandmark.LEFT_SHOULDER"
   ]
  },
  {
   "cell_type": "code",
   "execution_count": 70,
   "id": "0dfa7190",
   "metadata": {},
   "outputs": [
    {
     "data": {
      "text/plain": [
       "x: 0.7457833\n",
       "y: 0.87768227\n",
       "z: -0.33927768\n",
       "visibility: 0.99648297"
      ]
     },
     "execution_count": 70,
     "metadata": {},
     "output_type": "execute_result"
    }
   ],
   "source": [
    "landmarks[mp_pose.PoseLandmark.LEFT_SHOULDER.value]"
   ]
  },
  {
   "cell_type": "code",
   "execution_count": null,
   "id": "ea2b9a3d",
   "metadata": {},
   "outputs": [],
   "source": []
  },
  {
   "cell_type": "code",
   "execution_count": null,
   "id": "0d5b9cbd",
   "metadata": {},
   "outputs": [],
   "source": []
  },
  {
   "cell_type": "markdown",
   "id": "47e09d9b",
   "metadata": {},
   "source": [
    "# Calculate Angels"
   ]
  },
  {
   "cell_type": "code",
   "execution_count": 79,
   "id": "c8bb25f2",
   "metadata": {},
   "outputs": [
    {
     "data": {
      "text/plain": [
       "x: 0.7457833\n",
       "y: 0.87768227\n",
       "z: -0.33927768\n",
       "visibility: 0.99648297"
      ]
     },
     "execution_count": 79,
     "metadata": {},
     "output_type": "execute_result"
    }
   ],
   "source": [
    "landmarks[mp_pose.PoseLandmark.LEFT_SHOULDER.value]"
   ]
  },
  {
   "cell_type": "code",
   "execution_count": 80,
   "id": "dff99d46",
   "metadata": {},
   "outputs": [
    {
     "data": {
      "text/plain": [
       "x: 0.8782881\n",
       "y: 1.1821463\n",
       "z: -0.36213455\n",
       "visibility: 0.2567587"
      ]
     },
     "execution_count": 80,
     "metadata": {},
     "output_type": "execute_result"
    }
   ],
   "source": [
    "landmarks[mp_pose.PoseLandmark.LEFT_ELBOW.value]"
   ]
  },
  {
   "cell_type": "code",
   "execution_count": 81,
   "id": "e5e82295",
   "metadata": {},
   "outputs": [
    {
     "data": {
      "text/plain": [
       "x: 0.9014492\n",
       "y: 1.4754834\n",
       "z: -0.89777625\n",
       "visibility: 0.039272714"
      ]
     },
     "execution_count": 81,
     "metadata": {},
     "output_type": "execute_result"
    }
   ],
   "source": [
    "landmarks[mp_pose.PoseLandmark.LEFT_WRIST.value]"
   ]
  },
  {
   "cell_type": "code",
   "execution_count": 82,
   "id": "41968c85",
   "metadata": {},
   "outputs": [],
   "source": [
    "def calculate_angel(a,b,c):\n",
    "    a = np.array(a)      # First\n",
    "    b = np.array(b)      # Mid\n",
    "    c = np.array(c)      # End\n",
    "    \n",
    "    radians = np.arctan2(c[1]-b[1], c[0]-b[0]) - np.arctan2(a[1]-b[1], a[0]-b[0])\n",
    "    angel = np.abs(radians*180.0/np.pi)\n",
    "    \n",
    "    if angel > 180.0:\n",
    "        angel = 360-angel\n",
    "    \n",
    "    return angel"
   ]
  },
  {
   "cell_type": "code",
   "execution_count": 87,
   "id": "eb26d5d0",
   "metadata": {},
   "outputs": [],
   "source": [
    "shoulder = [landmarks[mp_pose.PoseLandmark.LEFT_SHOULDER.value].x, landmarks[mp_pose.PoseLandmark.LEFT_SHOULDER.value].y]\n",
    "elbow = [landmarks[mp_pose.PoseLandmark.LEFT_ELBOW.value].x, landmarks[mp_pose.PoseLandmark.LEFT_ELBOW.value].y]\n",
    "wrist = [landmarks[mp_pose.PoseLandmark.LEFT_WRIST.value].x, landmarks[mp_pose.PoseLandmark.LEFT_WRIST.value].y]"
   ]
  },
  {
   "cell_type": "code",
   "execution_count": 88,
   "id": "3bd9c1bd",
   "metadata": {},
   "outputs": [
    {
     "data": {
      "text/plain": [
       "([0.7457833290100098, 0.8776822686195374],\n",
       " [0.8782880902290344, 1.1821463108062744],\n",
       " [0.9014492034912109, 1.4754834175109863])"
      ]
     },
     "execution_count": 88,
     "metadata": {},
     "output_type": "execute_result"
    }
   ],
   "source": [
    "shoulder, elbow, wrist"
   ]
  },
  {
   "cell_type": "code",
   "execution_count": 89,
   "id": "ab13b364",
   "metadata": {},
   "outputs": [
    {
     "data": {
      "text/plain": [
       "160.99556202617865"
      ]
     },
     "execution_count": 89,
     "metadata": {},
     "output_type": "execute_result"
    }
   ],
   "source": [
    "calculate_angel(shoulder, elbow, wrist)"
   ]
  },
  {
   "cell_type": "code",
   "execution_count": 103,
   "id": "09213edd",
   "metadata": {},
   "outputs": [],
   "source": [
    "cap = cv2.VideoCapture(0)\n",
    "\n",
    "# Curl counter variables\n",
    "counter = 0\n",
    "stage = None\n",
    "\n",
    "with mp_pose.Pose(min_detection_confidence=0.5, min_tracking_confidence=0.5) as pose:\n",
    "    \n",
    "    while cap.isOpened():\n",
    "        ret, frame = cap.read()\n",
    "        \n",
    "        # Recolor image to RGB\n",
    "        image = cv2.cvtColor(frame, cv2.COLOR_BGR2RGB)\n",
    "        \n",
    "        # make detection\n",
    "        results = pose.process(image)\n",
    "        \n",
    "        # Recolor back to BGR\n",
    "        image = cv2.cvtColor(image, cv2.COLOR_RGB2BGR)\n",
    "        \n",
    "        # Extract landmarks\n",
    "        try:\n",
    "            landmarks = results.pose_landmarks.landmark\n",
    "            \n",
    "            # Get coordinates\n",
    "            shoulder = [landmarks[mp_pose.PoseLandmark.LEFT_SHOULDER.value].x, landmarks[mp_pose.PoseLandmark.LEFT_SHOULDER.value].y]\n",
    "            elbow = [landmarks[mp_pose.PoseLandmark.LEFT_ELBOW.value].x, landmarks[mp_pose.PoseLandmark.LEFT_ELBOW.value].y]\n",
    "            wrist = [landmarks[mp_pose.PoseLandmark.LEFT_WRIST.value].x, landmarks[mp_pose.PoseLandmark.LEFT_WRIST.value].y]\n",
    "            \n",
    "            # Calculate Angel\n",
    "            angel = calculate_angel(shoulder, elbow, wrist)\n",
    "            \n",
    "            # Visulize it\n",
    "            cv2.putText(image, str(int(angel)),\n",
    "                        tuple(np.multiply(elbow, [640,480]).astype(int)),\n",
    "                        cv2.FONT_HERSHEY_SIMPLEX, 0.5, (255,255,255),2,cv2.LINE_AA)\n",
    "            \n",
    "            # Curl counter logic\n",
    "            if angel > 150:\n",
    "                stage = \"down\"\n",
    "            if angel < 40 and stage == \"down\":\n",
    "                stage = \"up\"\n",
    "                counter +=1\n",
    "                print(counter)\n",
    "            \n",
    "        except:\n",
    "            pass\n",
    "        \n",
    "        # Render curl counter\n",
    "        # Setup status box\n",
    "        cv2.rectangle(image, (0,0), (225,73), (245,117,16), -1)\n",
    "        \n",
    "        # Rep data\n",
    "        cv2.putText(image, \"REPS\", (15,12),\n",
    "                    cv2.FONT_HERSHEY_SIMPLEX, 0.5, (0,0,0), 1, cv2.LINE_AA)\n",
    "        cv2.putText(image, str(counter), (10,40),\n",
    "                    cv2.FONT_HERSHEY_SIMPLEX, 1, (255,255,255), 2, cv2.LINE_AA)\n",
    "        \n",
    "        # Stage data\n",
    "        cv2.putText(image, \"Stage\",(65,12),\n",
    "                    cv2.FONT_HERSHEY_SIMPLEX, 0.5, (0,0,0), 1, cv2.LINE_AA)\n",
    "        cv2.putText(image, stage, (60,40),\n",
    "                    cv2.FONT_HERSHEY_SIMPLEX, 1, (255,255,255), 2, cv2.LINE_AA)\n",
    "        \n",
    "        \n",
    "        \n",
    "        # Render detections\n",
    "        mp_drawing.draw_landmarks(image, results.pose_landmarks, mp_pose.POSE_CONNECTIONS,\n",
    "                                  mp_drawing.DrawingSpec(color=(0,0,255), thickness=2, circle_radius=2),\n",
    "                                  mp_drawing.DrawingSpec(color=(255,0,0), thickness=2, circle_radius=2))\n",
    "        \n",
    "        #print(results)\n",
    "        \n",
    "        \n",
    "        cv2.imshow(\"Mediapipe Feed\", image)\n",
    "    \n",
    "        if cv2.waitKey(1) & 0xFF == ord(\"q\"):\n",
    "            break\n",
    "        \n",
    "cap.release()\n",
    "cv2.destroyAllWindows()"
   ]
  },
  {
   "cell_type": "code",
   "execution_count": null,
   "id": "d4592550",
   "metadata": {},
   "outputs": [],
   "source": []
  }
 ],
 "metadata": {
  "kernelspec": {
   "display_name": "Python 3 (ipykernel)",
   "language": "python",
   "name": "python3"
  },
  "language_info": {
   "codemirror_mode": {
    "name": "ipython",
    "version": 3
   },
   "file_extension": ".py",
   "mimetype": "text/x-python",
   "name": "python",
   "nbconvert_exporter": "python",
   "pygments_lexer": "ipython3",
   "version": "3.9.12"
  }
 },
 "nbformat": 4,
 "nbformat_minor": 5
}
